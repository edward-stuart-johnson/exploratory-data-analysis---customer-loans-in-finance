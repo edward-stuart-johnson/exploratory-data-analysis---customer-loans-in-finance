{
 "cells": [
  {
   "cell_type": "markdown",
   "metadata": {},
   "source": [
    "# Analysis and Visualisation\n",
    "\n"
   ]
  },
  {
   "cell_type": "markdown",
   "metadata": {},
   "source": [
    "For accurate analysis, we use the original dataset for the actual values of money, which existed before we altered their values and distributions in the previous explroatory data analysis."
   ]
  },
  {
   "cell_type": "code",
   "execution_count": null,
   "metadata": {},
   "outputs": [],
   "source": [
    "import sys\n",
    "sys.path.insert(0, \".\")\n",
    "\n",
    "from pathlib import Path\n",
    "import db_utils\n",
    "import pandas as pd\n",
    "\n",
    "db_utils\n",
    "\n",
    "df = pd.read_csv('loan_payments.csv')\n",
    "df"
   ]
  },
  {
   "cell_type": "markdown",
   "metadata": {},
   "source": [
    "## Current State of the Loans\n",
    "\n"
   ]
  },
  {
   "cell_type": "markdown",
   "metadata": {},
   "source": [
    "\n",
    "We will query the data to check the current state of the payments:\n",
    "\n",
    "\n",
    "What percentage of the loans are recovered against the investor funding and the total amount funded?\n",
    "\n",
    "we can visualise the results on an appropriate graph.\n",
    "\n"
   ]
  },
  {
   "cell_type": "code",
   "execution_count": null,
   "metadata": {},
   "outputs": [],
   "source": [
    "\n",
    "\n",
    "for each row in df:\n",
    "    percentage_of_loan_recovered_so_far = 100*total_payment/loan_amount\n",
    "    total_funded = funded_amount + funded_amount_inv\n",
    "    #  create scatter graph with x-axis of total_funded and y-axis of percentage of loan recovered so far"
   ]
  },
  {
   "cell_type": "markdown",
   "metadata": {},
   "source": [
    "We can also visualise what percentage of the total amount would be recovered up to 6 months' in the future:"
   ]
  },
  {
   "cell_type": "code",
   "execution_count": null,
   "metadata": {},
   "outputs": [],
   "source": [
    "percentage_of_the_total_amount_recovered_up_to_6_months_in_the_future = 100*(total_payment+instalment*6)/loan_amount\n"
   ]
  }
 ],
 "metadata": {
  "language_info": {
   "name": "python"
  }
 },
 "nbformat": 4,
 "nbformat_minor": 2
}
