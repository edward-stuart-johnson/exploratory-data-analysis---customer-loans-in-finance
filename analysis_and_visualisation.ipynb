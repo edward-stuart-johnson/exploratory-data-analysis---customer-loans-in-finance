{
 "cells": [
  {
   "cell_type": "markdown",
   "metadata": {},
   "source": [
    "# Analysis and Visualisation\n",
    "\n"
   ]
  },
  {
   "cell_type": "code",
   "execution_count": null,
   "metadata": {},
   "outputs": [],
   "source": [
    "import sys\n",
    "sys.path.insert(0, \".\")\n",
    "\n",
    "from pathlib import Path\n",
    "import db_utils\n",
    "import pandas as pd\n",
    "\n",
    "db_utils\n",
    "\n",
    "df = pd.read_csv('loan_payments.csv')\n",
    "df"
   ]
  }
 ],
 "metadata": {
  "language_info": {
   "name": "python"
  }
 },
 "nbformat": 4,
 "nbformat_minor": 2
}
